{
 "cells": [
  {
   "cell_type": "markdown",
   "metadata": {},
   "source": [
    "#### 1:max of three num"
   ]
  },
  {
   "cell_type": "code",
   "execution_count": 43,
   "metadata": {},
   "outputs": [
    {
     "name": "stdout",
     "output_type": "stream",
     "text": [
      "b is max\n"
     ]
    }
   ],
   "source": [
    "def max(a,b,c):\n",
    "    if a>=b and a>=c:\n",
    "        print('a is max')\n",
    "    elif b>=a and b>=c:\n",
    "        print('b is max')\n",
    "    else:\n",
    "        print('c is max')\n",
    "    \n",
    "max(3,7,5)"
   ]
  },
  {
   "cell_type": "markdown",
   "metadata": {},
   "source": [
    "### 2:reversing a string"
   ]
  },
  {
   "cell_type": "code",
   "execution_count": 103,
   "metadata": {},
   "outputs": [
    {
     "name": "stdout",
     "output_type": "stream",
     "text": [
      "u era woh\n"
     ]
    }
   ],
   "source": [
    "def my(x):\n",
    "    return x[::-1]\n",
    "txt=my(\"how are u\")\n",
    "print(txt)"
   ]
  },
  {
   "cell_type": "markdown",
   "metadata": {},
   "source": [
    "#### 3:prime is not"
   ]
  },
  {
   "cell_type": "code",
   "execution_count": 124,
   "metadata": {},
   "outputs": [
    {
     "name": "stdout",
     "output_type": "stream",
     "text": [
      "enter a num6\n",
      "it is not a prime \n"
     ]
    }
   ],
   "source": [
    "def prime():\n",
    "    num=int(input('enter a num'))\n",
    "    if num>1:\n",
    "        for i in range(2,num):\n",
    "            if (num%i)==0:\n",
    "                print('it is not a prime ')                \n",
    "                break\n",
    "            else:\n",
    "                         print(num,'it is a prime')\n",
    "        else:\n",
    "                    print(num,\"it is not a prime\")          \n",
    "prime()"
   ]
  },
  {
   "cell_type": "markdown",
   "metadata": {},
   "source": [
    "### 4:raising an error by palindrome"
   ]
  },
  {
   "cell_type": "code",
   "execution_count": 102,
   "metadata": {},
   "outputs": [
    {
     "name": "stdout",
     "output_type": "stream",
     "text": [
      " input is not a proper\n",
      "execution\n"
     ]
    }
   ],
   "source": [
    "def my(x):\n",
    "        return x[::-1]\n",
    "try:\n",
    "    x=mam\n",
    "    ans=my(x)\n",
    "    if ans:\n",
    "        print('yes')\n",
    "    else:\n",
    "        print('no')\n",
    "except:\n",
    "    print(\" input is not a proper\")\n",
    "finally:\n",
    "    print('execution')"
   ]
  },
  {
   "cell_type": "markdown",
   "metadata": {},
   "source": [
    "### 5:sum of squares of natural num"
   ]
  },
  {
   "cell_type": "code",
   "execution_count": 112,
   "metadata": {},
   "outputs": [
    {
     "name": "stdout",
     "output_type": "stream",
     "text": [
      "30\n"
     ]
    }
   ],
   "source": [
    "def square(n):\n",
    "    sum=0\n",
    "    for i in range(1,n+1):\n",
    "        sum=sum+(i*i)\n",
    "    return sum\n",
    "\n",
    "print(square(4))    "
   ]
  },
  {
   "cell_type": "code",
   "execution_count": null,
   "metadata": {},
   "outputs": [],
   "source": []
  }
 ],
 "metadata": {
  "kernelspec": {
   "display_name": "Python 3",
   "language": "python",
   "name": "python3"
  },
  "language_info": {
   "codemirror_mode": {
    "name": "ipython",
    "version": 3
   },
   "file_extension": ".py",
   "mimetype": "text/x-python",
   "name": "python",
   "nbconvert_exporter": "python",
   "pygments_lexer": "ipython3",
   "version": "3.7.6"
  }
 },
 "nbformat": 4,
 "nbformat_minor": 4
}
